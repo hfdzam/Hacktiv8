{
 "cells": [
  {
   "cell_type": "markdown",
   "metadata": {},
   "source": [
    "TASK 1"
   ]
  },
  {
   "cell_type": "code",
   "execution_count": 6,
   "metadata": {},
   "outputs": [
    {
     "name": "stdout",
     "output_type": "stream",
     "text": [
      "2\n",
      "8\n"
     ]
    }
   ],
   "source": [
    "def number_of_word(sentence):\n",
    "    a = sentence.split()\n",
    "    print(len(a))\n",
    "\n",
    "number_of_word(sentence='Hello World!')\n",
    "number_of_word(sentence='’Once Upon a Time in a faraway land')\n"
   ]
  },
  {
   "cell_type": "markdown",
   "metadata": {},
   "source": [
    "TASK 2"
   ]
  },
  {
   "cell_type": "markdown",
   "metadata": {},
   "source": [
    "range(start, end, step)\n",
    "range(1,5,1)"
   ]
  },
  {
   "cell_type": "code",
   "execution_count": 1,
   "metadata": {},
   "outputs": [
    {
     "data": {
      "text/plain": [
       "[5, 10, 15, 20]"
      ]
     },
     "execution_count": 1,
     "metadata": {},
     "output_type": "execute_result"
    }
   ],
   "source": [
    "def find_multiples(start_range, end_range, multiple):\n",
    "    multiple_list=[]\n",
    "    for angka in range(start_range,end_range+1):\n",
    "        if angka % multiple ==0:\n",
    "            multiple_list.append(angka)       \n",
    "    return(multiple_list)\n",
    "\n",
    "\n",
    "find_multiples(1,20,5)\n",
    "#find_multiples(1,50,10)\n",
    "\n",
    "    "
   ]
  },
  {
   "cell_type": "markdown",
   "metadata": {},
   "source": [
    "TASK 3"
   ]
  },
  {
   "cell_type": "code",
   "execution_count": 1,
   "metadata": {},
   "outputs": [
    {
     "data": {
      "text/plain": [
       "{'Albert': 4, 'Dwi': 3, 'Syahdan': 2, 'Veronica': 3}"
      ]
     },
     "execution_count": 1,
     "metadata": {},
     "output_type": "execute_result"
    }
   ],
   "source": [
    "def Grade_Converter(convert_to,**students):\n",
    "    for student, grade in students.items():\n",
    "        if grade >=85:\n",
    "            if convert_to =='gpa':\n",
    "                students[student] = 'A'\n",
    "            else:\n",
    "                students[student] = 4\n",
    "        elif grade >=70:\n",
    "            if convert_to =='gpa':\n",
    "                students[student] = 'B'\n",
    "            else:\n",
    "                students[student] = 3\n",
    "        elif grade >=60:\n",
    "            if convert_to =='gpa':\n",
    "                students[student] = 'c'\n",
    "            else:\n",
    "                students[student] = 2.5\n",
    "        elif grade >=50:\n",
    "            if convert_to =='gpa':\n",
    "                students[student] = 'D'\n",
    "            else:\n",
    "                students[student] = 2\n",
    "        elif grade >=40:\n",
    "            if convert_to =='gpa':\n",
    "                students[student] = 'E'\n",
    "            else:\n",
    "                students[student] = 1.5\n",
    "        else:\n",
    "            if convert_to =='gpa':\n",
    "                students[student] = 'F'\n",
    "            else:\n",
    "                students[student] = 1\n",
    "\n",
    "    return students\n",
    "Grade_Converter(convert_to='gpa', Adam=62, Faiz=91)\n",
    "Grade_Converter(convert_to='letter_grade', Albert=90, Dwi=82, Syahdan=58, Veronica=84)\n",
    "\n"
   ]
  },
  {
   "cell_type": "markdown",
   "metadata": {},
   "source": [
    "TASK 4"
   ]
  },
  {
   "cell_type": "code",
   "execution_count": 115,
   "metadata": {},
   "outputs": [
    {
     "data": {
      "text/plain": [
       "55"
      ]
     },
     "execution_count": 115,
     "metadata": {},
     "output_type": "execute_result"
    }
   ],
   "source": [
    "def my_function(n):\n",
    "    fib = [0,1]\n",
    "    if n <= 1:\n",
    "        return fib[n]\n",
    "    else:\n",
    "        for index in range(2, n+1):\n",
    "            fib.append(fib[index-1]+fib[index-2])\n",
    "        return fib[n]\n",
    "my_function(10)"
   ]
  }
 ],
 "metadata": {
  "kernelspec": {
   "display_name": "base",
   "language": "python",
   "name": "python3"
  },
  "language_info": {
   "codemirror_mode": {
    "name": "ipython",
    "version": 3
   },
   "file_extension": ".py",
   "mimetype": "text/x-python",
   "name": "python",
   "nbconvert_exporter": "python",
   "pygments_lexer": "ipython3",
   "version": "3.11.7"
  }
 },
 "nbformat": 4,
 "nbformat_minor": 2
}
