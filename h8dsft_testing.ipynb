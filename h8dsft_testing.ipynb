{
 "cells": [
  {
   "cell_type": "code",
   "execution_count": 1,
   "metadata": {},
   "outputs": [
    {
     "name": "stdout",
     "output_type": "stream",
     "text": [
      "Menu\n",
      "1. tambah buku\n",
      "2. cari buku\n",
      "3. haous buku\n",
      "4. tampilkan buku\n",
      "5. exit\n"
     ]
    }
   ],
   "source": [
    "class book:\n",
    "    def __init__(self,title,author,unique):\n",
    "        self.title = title\n",
    "        self.author = author\n",
    "        self.unique = unique\n",
    "\n",
    "    def __str__(self):\n",
    "        return f\"judul {self.title} author {self.author} unique {self.unique}\"\n",
    "    \n",
    "class library:\n",
    "    def __init__(self):\n",
    "        self.catalog=[]\n",
    "    \n",
    "    def tambah(self,isi):\n",
    "        self.catalog.append(isi)\n",
    "        print(f\"{isi.title} by {isi.author} berhasil ditambah.\")\n",
    "    \n",
    "    def cari(self,search):\n",
    "        found = []\n",
    "        for caribuku in self.catalog:\n",
    "            if search.lower() in caribuku.title.lower() or search.lower() in caribuku.author.lower():\n",
    "                found.append(caribuku)\n",
    "                print(caribuku)\n",
    "            else:\n",
    "                print(\"buku tidak ada\")\n",
    "\n",
    "\n",
    "    def hapus(self,title):\n",
    "        found = []\n",
    "        for hapus in self.catalog:\n",
    "            if hapus.title.lower() == title.lower():\n",
    "                self.catalog.remove(hapus)\n",
    "                print(f\"{title} berhasil dihapus\")\n",
    "                found = True\n",
    "                break\n",
    "        if not found:\n",
    "            print(f\"{title} tidak ada\")\n",
    "\n",
    "    def tampil(self):\n",
    "        if self.catalog:\n",
    "            print(\"isi perpus\")\n",
    "            for isi in self.catalog:\n",
    "                print (isi)\n",
    "        else:\n",
    "            print(\"tidak ada isi\")\n",
    "\n",
    "def main():\n",
    "    my_library=library()\n",
    "    while True:\n",
    "        print(\"Menu\")\n",
    "        print(\"1. tambah buku\")\n",
    "        print(\"2. cari buku\")\n",
    "        print(\"3. haous buku\")\n",
    "        print(\"4. tampilkan buku\")\n",
    "        print(\"5. exit\")\n",
    "        try:\n",
    "            pilih=input(\"masukan menu\")\n",
    "            if pilih == '1':\n",
    "                title = input(\"masukan judul\")\n",
    "                author = input (\"masukan author\")\n",
    "                unique = input(\"masukan unique ID\")\n",
    "                my_library.tambah(book(title,author,unique))\n",
    "\n",
    "            elif pilih =='2':\n",
    "                search=input(\"masukan yg ingin dicari\")\n",
    "                print(f\"pencarian buku: {search}\")\n",
    "                my_library.cari(search)\n",
    "\n",
    "            elif pilih == '3':\n",
    "                remove=input(\"masukan yg mau dihapus\")\n",
    "                my_library.hapus(remove)\n",
    "\n",
    "            elif pilih == '4':\n",
    "                my_library.tampil()\n",
    "\n",
    "            elif pilih=='exit' or pilih=='5':\n",
    "                break\n",
    "            \n",
    "            else:\n",
    "                print(\"invalid pilihh\")\n",
    "\n",
    "        except ValueError:\n",
    "            print(\"invalid pilih\")    \n",
    "\n",
    "if __name__=='__main__':\n",
    "    main()\n",
    "\n"
   ]
  },
  {
   "cell_type": "code",
   "execution_count": 2,
   "metadata": {},
   "outputs": [
    {
     "name": "stderr",
     "output_type": "stream",
     "text": [
      "testTambah (__main__.TestMyCart.testTambah) ... ok\n",
      "test_hapus (__main__.TestMyCart.test_hapus) ... ok\n",
      "\n",
      "----------------------------------------------------------------------\n",
      "Ran 2 tests in 0.005s\n",
      "\n",
      "OK\n"
     ]
    },
    {
     "name": "stdout",
     "output_type": "stream",
     "text": [
      "dia by hfz berhasil ditambah.\n",
      "judul dia author hfz unique 123 tidak ada\n"
     ]
    },
    {
     "data": {
      "text/plain": [
       "<unittest.main.TestProgram at 0x1d0d50b5590>"
      ]
     },
     "execution_count": 2,
     "metadata": {},
     "output_type": "execute_result"
    }
   ],
   "source": [
    "import unittest\n",
    "\n",
    "class TestMyCart(unittest.TestCase):\n",
    "    def setUp(self):\n",
    "        self.Isi1 = book('dia','hfz',123)\n",
    "        self.library=library()\n",
    "    \n",
    "    def testTambah(self):\n",
    "        self.library.tambah(self.Isi1)\n",
    "        self.assertEqual(len(self.library.catalog),1)\n",
    "\n",
    "    def test_hapus(self):\n",
    "        self.library.hapus(self.Isi1)\n",
    "        self.assertEqual(len(self.library.catalog),0)\n",
    "        \n",
    "\n",
    "unittest.main(argv=[''], verbosity=2, exit=False)"
   ]
  }
 ],
 "metadata": {
  "kernelspec": {
   "display_name": "base",
   "language": "python",
   "name": "python3"
  },
  "language_info": {
   "codemirror_mode": {
    "name": "ipython",
    "version": 3
   },
   "file_extension": ".py",
   "mimetype": "text/x-python",
   "name": "python",
   "nbconvert_exporter": "python",
   "pygments_lexer": "ipython3",
   "version": "3.11.7"
  }
 },
 "nbformat": 4,
 "nbformat_minor": 2
}
